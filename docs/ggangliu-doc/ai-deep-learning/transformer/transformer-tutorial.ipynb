{
 "cells": [
  {
   "cell_type": "markdown",
   "metadata": {},
   "source": [
    "# Transformer\n",
    "\n",
    "字典的维度 d_model"
   ]
  },
  {
   "cell_type": "markdown",
   "metadata": {},
   "source": [
    "## Word Embedding\n"
   ]
  },
  {
   "cell_type": "code",
   "execution_count": null,
   "metadata": {},
   "outputs": [],
   "source": []
  },
  {
   "cell_type": "markdown",
   "metadata": {},
   "source": [
    "## Positional Embedding\n"
   ]
  },
  {
   "cell_type": "code",
   "execution_count": 2,
   "metadata": {},
   "outputs": [],
   "source": [
    "import torch, math\n",
    "from torch import nn\n",
    "\n",
    "from torch.nn import TransformerEncoder, TransformerEncoderLayer, TransformerDecoderLayer"
   ]
  },
  {
   "cell_type": "code",
   "execution_count": 3,
   "metadata": {},
   "outputs": [
    {
     "data": {
      "text/plain": [
       "'2.0.0+cpu'"
      ]
     },
     "execution_count": 3,
     "metadata": {},
     "output_type": "execute_result"
    }
   ],
   "source": [
    "class TransformerModel(nn.Module):\n",
    "    def __init__(self, ntoken, d_model, dropout, nhead, num_layers, out_class): # ntoken = size of vocabulary\n",
    "        self.input_embedding = nn.Embedding(ntoken=, d_model=128)\n",
    "        self.pos_ecoder = PostionEncoding()\n",
    "        self.encoder_layer = TransformerEncoderLayer(d_model=128, nhead=4)\n",
    "        self.transformer_encoder = TransformerEncoder(self.encoder_layer, num_layers=6)\n",
    "        self.linear = nn.Linear(d_model=128, out_class)\n",
    "    \n",
    "    def forward(self, input_text):\n",
    "        out = self.input_embedding(input_text)\n",
    "        out = self.pos_ecoder(out)\n",
    "        out = self.transformer_encoder(out) # [序列长度，批次，d_model]\n",
    "        out = out[0, :, :]     \n",
    "        out = self.linear(out, out_class)\n",
    "        "
   ]
  },
  {
   "cell_type": "code",
   "execution_count": null,
   "metadata": {},
   "outputs": [],
   "source": [
    "class PostionEncoding(nn.Module):\n",
    "    def __init__(self, d_model, dropout: float = 0.1, max_len: int = 5000):\n",
    "        super().__init__()\n",
    "        self.max_len = max_len\n",
    "        self.dropout = nn.Dropout(p=dropout)\n",
    "        postion = torch.arange(0, max_len).unsequeeze(1)\n",
    "        div_term = torch.exp(torch.arange(0, d_model, 2) * (-math.log(10000) / d_model))\n",
    "        pe = torch.zeros(max_len, 1, d_model)\n",
    "        pe[:, 0, 0::2] = torch.sin(postion * div_term)\n",
    "        pe[:, 0, 1::2] = torch.cos(postion * div_term)\n",
    "        self.register_buffer('pe', pe)\n",
    "    \n",
    "    def forward(self, x):\n",
    "        x = x[:self.max_len] + pe[:x.size(0)]\n",
    "        return self.dropout(x)"
   ]
  },
  {
   "cell_type": "code",
   "execution_count": null,
   "metadata": {},
   "outputs": [],
   "source": [
    "ntokens = len(vocab)\n",
    "d_model = 200\n"
   ]
  }
 ],
 "metadata": {
  "kernelspec": {
   "display_name": "3d-gs-cpu",
   "language": "python",
   "name": "python3"
  },
  "language_info": {
   "codemirror_mode": {
    "name": "ipython",
    "version": 3
   },
   "file_extension": ".py",
   "mimetype": "text/x-python",
   "name": "python",
   "nbconvert_exporter": "python",
   "pygments_lexer": "ipython3",
   "version": "3.11.5"
  }
 },
 "nbformat": 4,
 "nbformat_minor": 2
}
